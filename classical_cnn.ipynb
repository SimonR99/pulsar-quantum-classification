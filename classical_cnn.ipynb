{
 "cells": [
  {
   "cell_type": "code",
   "execution_count": 1,
   "metadata": {},
   "outputs": [],
   "source": [
    "import torch\n",
    "import numpy as np\n",
    "from model_parameters import ModelParameters\n",
    "from tqdm.notebook import tqdm\n",
    "import time"
   ]
  },
  {
   "cell_type": "markdown",
   "metadata": {},
   "source": [
    "# Data Loading"
   ]
  },
  {
   "cell_type": "code",
   "execution_count": 2,
   "metadata": {},
   "outputs": [],
   "source": [
    "model_parameters = ModelParameters()\n",
    "x_train, x_test, y_train, y_test = model_parameters.get_htru_2()"
   ]
  },
  {
   "cell_type": "markdown",
   "metadata": {},
   "source": [
    "# Model definition"
   ]
  },
  {
   "cell_type": "code",
   "execution_count": 3,
   "metadata": {},
   "outputs": [],
   "source": [
    "class ClassicCNN(torch.nn.Module):\n",
    "    def __init__(self, num_features):\n",
    "        super(ClassicCNN, self).__init__()\n",
    "        self.conv1d = torch.nn.Conv1d(in_channels=num_features, out_channels=128, kernel_size=1)\n",
    "        self.relu = torch.nn.ReLU()\n",
    "        self.fc1 = torch.nn.Linear(128, 64)\n",
    "        self.fc2 = torch.nn.Linear(64, 1)\n",
    "\n",
    "    def forward(self, x):\n",
    "        x = torch.reshape(x, (-1, 8,1))\n",
    "        x = self.conv1d(x)\n",
    "        x = self.relu(x)\n",
    "        x = x.view(x.size(0), -1)\n",
    "        x = self.fc1(x)\n",
    "        x = self.relu(x)\n",
    "        x = self.fc2(x)\n",
    "        \n",
    "        x = torch.sigmoid(x)\n",
    "        x = x.squeeze(1)\n",
    "        return x"
   ]
  },
  {
   "cell_type": "markdown",
   "metadata": {},
   "source": [
    "# Training CNN"
   ]
  },
  {
   "cell_type": "code",
   "execution_count": 4,
   "metadata": {},
   "outputs": [
    {
     "data": {
      "application/json": {
       "ascii": false,
       "bar_format": null,
       "colour": null,
       "elapsed": 0.040062665939331055,
       "initial": 0,
       "n": 0,
       "ncols": null,
       "nrows": null,
       "postfix": null,
       "prefix": "",
       "rate": null,
       "total": 3,
       "unit": "it",
       "unit_divisor": 1000,
       "unit_scale": false
      },
      "application/vnd.jupyter.widget-view+json": {
       "model_id": "cf0dcf15758644f5829c55d8dec90a66",
       "version_major": 2,
       "version_minor": 0
      },
      "text/plain": [
       "  0%|          | 0/3 [00:00<?, ?it/s]"
      ]
     },
     "metadata": {},
     "output_type": "display_data"
    }
   ],
   "source": [
    "def train_network(model,optimizer,criterion,x_train,y_train,x_test,y_test,num_epochs,train_losses,test_losses):\n",
    "    for epoch in range(num_epochs):\n",
    "        #clear out the gradients from the last step loss.backward()\n",
    "        optimizer.zero_grad()\n",
    "        \n",
    "        #forward feed\n",
    "        output_train = model(x_train)\n",
    "\n",
    "        #calculate the loss\n",
    "        loss_train = criterion(output_train, y_train.float())\n",
    "        \n",
    "        #backward propagation: calculate gradients\n",
    "        loss_train.backward()\n",
    "\n",
    "        #update the weights\n",
    "        optimizer.step()\n",
    "        \n",
    "        output_test = model(x_test)\n",
    "        loss_test = criterion(output_test,y_test.float())\n",
    "\n",
    "        train_losses[epoch] = loss_train.item()\n",
    "        test_losses[epoch] = loss_test.item()\n",
    "\n",
    "for i in tqdm(range(model_parameters.num_runs)):\n",
    "    num_epochs = model_parameters.max_num_epochs\n",
    "    train_losses = np.zeros(num_epochs)\n",
    "    test_losses  = np.zeros(num_epochs)\n",
    "    model = ClassicCNN(model_parameters.num_features)\n",
    "\n",
    "    learning_rate = 0.01\n",
    "    criterion = torch.nn.BCELoss()\n",
    "    optimizer = torch.optim.Adam(model.parameters(),lr=learning_rate)\n",
    "\n",
    "    balanced_x_train, balanced_y_train = model_parameters.sub_select_dataset(x_train, y_train, model_parameters.training_samples, balanced=True)\n",
    "    sub_selected_x_test, sub_selected_y_test = model_parameters.sub_select_dataset(x_test, y_test, model_parameters.testing_samples)\n",
    "\n",
    "    balanced_x_train, sub_selected_x_test, balanced_y_train, sub_selected_y_test = model_parameters.torch_convertion(balanced_x_train, sub_selected_x_test, balanced_y_train, sub_selected_y_test)\n",
    "\n",
    "    start_training_time = time.time()\n",
    "    train_network(model,optimizer,criterion, balanced_x_train,balanced_y_train, sub_selected_x_test,sub_selected_y_test,num_epochs,train_losses,test_losses)\n",
    "    end_training_time = time.time()\n",
    "\n",
    "    training_duration = end_training_time - start_training_time\n",
    "\n",
    "    # Predict the test set\n",
    "    start_testing_time = time.time()\n",
    "    output_test = model(sub_selected_x_test)\n",
    "    end_testing_time = time.time()\n",
    "\n",
    "    testing_duration = end_testing_time - start_testing_time\n",
    "\n",
    "    predicted_test = (output_test > 0.5).float()\n",
    "\n",
    "    # Calculate the scores\n",
    "    model_parameters.append_score(sub_selected_y_test, predicted_test, training_duration, testing_duration)"
   ]
  },
  {
   "cell_type": "markdown",
   "metadata": {},
   "source": [
    "# Prediction"
   ]
  },
  {
   "cell_type": "code",
   "execution_count": 5,
   "metadata": {},
   "outputs": [
    {
     "name": "stdout",
     "output_type": "stream",
     "text": [
      "Accuracy: 0.932 ± 0.023\n",
      "Balanced_accuracy: 0.920 ± 0.027\n",
      "Recall: 0.905 ± 0.033\n",
      "Specificity: 0.934 ± 0.023\n",
      "Precision: 0.608 ± 0.092\n",
      "Npv: 0.989 ± 0.004\n",
      "Gmean: 0.919 ± 0.027\n",
      "Informedness: 0.839 ± 0.053\n",
      "Training_duration: 0.599 ± 0.112\n",
      "Testing_duration: 0.000 ± 0.001\n"
     ]
    }
   ],
   "source": [
    "# Print the scores\n",
    "for metric, values in model_parameters.scores.items():\n",
    "    mean_value = np.mean(values)\n",
    "    std_value = np.std(values)\n",
    "    print(f\"{metric.capitalize()}: {mean_value:.3f} ± {std_value:.3f}\")"
   ]
  }
 ],
 "metadata": {
  "kernelspec": {
   "display_name": "quantum",
   "language": "python",
   "name": "python3"
  },
  "language_info": {
   "codemirror_mode": {
    "name": "ipython",
    "version": 3
   },
   "file_extension": ".py",
   "mimetype": "text/x-python",
   "name": "python",
   "nbconvert_exporter": "python",
   "pygments_lexer": "ipython3",
   "version": "3.9.12"
  }
 },
 "nbformat": 4,
 "nbformat_minor": 2
}
