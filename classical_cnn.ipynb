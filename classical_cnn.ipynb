{
 "cells": [
  {
   "cell_type": "code",
   "execution_count": 1,
   "metadata": {},
   "outputs": [],
   "source": [
    "import torch\n",
    "import numpy as np\n",
    "from model_parameters import ModelParameters\n",
    "from tqdm import tqdm\n",
    "import time\n",
    "from helper.torch_training import run_torch_sequence\n",
    "from helper.scores import Metrics"
   ]
  },
  {
   "cell_type": "markdown",
   "metadata": {},
   "source": [
    "# Data Loading"
   ]
  },
  {
   "cell_type": "code",
   "execution_count": 2,
   "metadata": {},
   "outputs": [],
   "source": [
    "model_parameters = ModelParameters()\n",
    "x_train, x_test, y_train, y_test = model_parameters.get_htru_2()"
   ]
  },
  {
   "cell_type": "markdown",
   "metadata": {},
   "source": [
    "# Model definition"
   ]
  },
  {
   "cell_type": "code",
   "execution_count": 3,
   "metadata": {},
   "outputs": [],
   "source": [
    "class ClassicCNN(torch.nn.Module):\n",
    "    def __init__(self, num_features):\n",
    "        super(ClassicCNN, self).__init__()\n",
    "        self.conv1d = torch.nn.Conv1d(in_channels=num_features, out_channels=128, kernel_size=1)\n",
    "        self.relu = torch.nn.ReLU()\n",
    "        self.fc1 = torch.nn.Linear(128, 64)\n",
    "        self.fc2 = torch.nn.Linear(64, 1)\n",
    "\n",
    "    def forward(self, x):\n",
    "        x = torch.reshape(x, (-1, 8,1))\n",
    "        x = self.conv1d(x)\n",
    "        x = self.relu(x)\n",
    "        x = x.view(x.size(0), -1)\n",
    "        x = self.fc1(x)\n",
    "        x = self.relu(x)\n",
    "        x = self.fc2(x)\n",
    "        \n",
    "        x = torch.sigmoid(x)\n",
    "        x = x.squeeze(1)\n",
    "        return x"
   ]
  },
  {
   "cell_type": "markdown",
   "metadata": {},
   "source": [
    "## Training CNN"
   ]
  },
  {
   "cell_type": "code",
   "execution_count": 4,
   "metadata": {},
   "outputs": [
    {
     "name": "stderr",
     "output_type": "stream",
     "text": [
      "100%|██████████| 6/6 [00:03<00:00,  1.72it/s]"
     ]
    },
    {
     "name": "stdout",
     "output_type": "stream",
     "text": [
      "Pour 6 runs:\n",
      "Accuracy: 0.937 ± 0.025\n",
      "Balanced Accuracy: 0.922 ± 0.015\n",
      "Recall: 0.904 ± 0.020\n",
      "Specificity: 0.941 ± 0.028\n",
      "Precision: 0.644 ± 0.125\n",
      "NPV: 0.989 ± 0.003\n",
      "G-Mean: 0.922 ± 0.015\n",
      "Informedness: 0.845 ± 0.030\n",
      "Training Duration: 0.449 ± 0.021\n",
      "Testing Duration: 0.001 ± 0.000\n"
     ]
    },
    {
     "name": "stderr",
     "output_type": "stream",
     "text": [
      "\n"
     ]
    }
   ],
   "source": [
    "metrics = Metrics()\n",
    "\n",
    "model = ClassicCNN(model_parameters.num_features)\n",
    "run_torch_sequence(model_parameters, model, x_train, y_train, x_test, y_test, metrics)\n",
    "metrics.display()"
   ]
  }
 ],
 "metadata": {
  "kernelspec": {
   "display_name": "quantum",
   "language": "python",
   "name": "python3"
  },
  "language_info": {
   "codemirror_mode": {
    "name": "ipython",
    "version": 3
   },
   "file_extension": ".py",
   "mimetype": "text/x-python",
   "name": "python",
   "nbconvert_exporter": "python",
   "pygments_lexer": "ipython3",
   "version": "3.11.5"
  }
 },
 "nbformat": 4,
 "nbformat_minor": 2
}
