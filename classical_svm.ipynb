{
 "cells": [
  {
   "cell_type": "code",
   "execution_count": 1,
   "metadata": {},
   "outputs": [],
   "source": [
    "from sklearn.model_selection import cross_val_score, cross_validate, StratifiedKFold, ShuffleSplit\n",
    "from sklearn.metrics import accuracy_score, balanced_accuracy_score, recall_score, precision_score, confusion_matrix, make_scorer\n",
    "from sklearn.svm import SVC\n",
    "import pennylane.numpy as np\n",
    "import pandas as pd\n",
    "from utils import specificity_score, negative_prediction_value_score, gmean_score, informedness_score\n",
    "from model_parameters import ModelParameters\n",
    "import time"
   ]
  },
  {
   "cell_type": "markdown",
   "metadata": {},
   "source": [
    "# Training SVM"
   ]
  },
  {
   "cell_type": "code",
   "execution_count": null,
   "metadata": {},
   "outputs": [],
   "source": []
  },
  {
   "cell_type": "code",
   "execution_count": 2,
   "metadata": {},
   "outputs": [],
   "source": [
    "model_parameters = ModelParameters()\n",
    "\n",
    "# Initialize the model\n",
    "model = SVC(kernel='linear', C=1.0) \n",
    "\n",
    "x_train, x_test, y_train, y_test = model_parameters.get_htru_2()\n",
    "\n",
    "for i in range(model_parameters.num_runs):\n",
    "    balanced_x_train, balance_y_train = model_parameters.sub_select_dataset(x_train, y_train, model_parameters.training_samples, balanced=True)\n",
    "    balanced_x_test, balance_y_test = model_parameters.sub_select_dataset(x_test, y_test, model_parameters.testing_samples)\n",
    "\n",
    "    # Train the model and make predictions\n",
    "    start_training_time = time.time()\n",
    "    model.fit(balanced_x_train, balance_y_train)\n",
    "    end_training_time = time.time()\n",
    "\n",
    "    training_duration = end_training_time - start_training_time\n",
    "\n",
    "    start_testing_time = time.time()\n",
    "    y_pred = model.predict(balanced_x_test)\n",
    "    end_testing_time = time.time()\n",
    "\n",
    "    test_duration = end_testing_time - start_testing_time\n",
    "\n",
    "    # Store the scores\n",
    "    model_parameters.append_score(balance_y_test, y_pred, training_duration, test_duration)"
   ]
  },
  {
   "cell_type": "markdown",
   "metadata": {},
   "source": [
    "# Prediction"
   ]
  },
  {
   "cell_type": "code",
   "execution_count": 3,
   "metadata": {},
   "outputs": [
    {
     "name": "stdout",
     "output_type": "stream",
     "text": [
      "Accuracy: 0.964 ± 0.015\n",
      "Balanced_accuracy: 0.948 ± 0.015\n",
      "Recall: 0.927 ± 0.030\n",
      "Specificity: 0.968 ± 0.016\n",
      "Precision: 0.759 ± 0.083\n",
      "Npv: 0.992 ± 0.004\n",
      "Gmean: 0.947 ± 0.016\n",
      "Informedness: 0.895 ± 0.031\n",
      "Training_duration: 0.003 ± 0.001\n",
      "Testing_duration: 0.001 ± 0.000\n"
     ]
    }
   ],
   "source": [
    "# Calculate mean and standard deviation for each metric and print the results\n",
    "for metric, values in model_parameters.scores.items():\n",
    "    mean_value = np.mean(values)\n",
    "    std_value = np.std(values)\n",
    "    print(f\"{metric.capitalize()}: {mean_value:.3f} ± {std_value:.3f}\")"
   ]
  }
 ],
 "metadata": {
  "kernelspec": {
   "display_name": "quantum",
   "language": "python",
   "name": "python3"
  },
  "language_info": {
   "codemirror_mode": {
    "name": "ipython",
    "version": 3
   },
   "file_extension": ".py",
   "mimetype": "text/x-python",
   "name": "python",
   "nbconvert_exporter": "python",
   "pygments_lexer": "ipython3",
   "version": "3.9.12"
  }
 },
 "nbformat": 4,
 "nbformat_minor": 2
}
