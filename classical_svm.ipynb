{
 "cells": [
  {
   "cell_type": "code",
   "execution_count": 3,
   "metadata": {},
   "outputs": [],
   "source": [
    "from sklearn.svm import SVC\n",
    "import pennylane.numpy as np\n",
    "from model_parameters import ModelParameters\n",
    "import time\n",
    "from helper.scores import Metrics\n",
    "from helper.dataset import sub_select_dataset\n",
    "from helper.svm import run_svm_sequence"
   ]
  },
  {
   "cell_type": "markdown",
   "metadata": {},
   "source": [
    "# Training SVM"
   ]
  },
  {
   "cell_type": "code",
   "execution_count": 4,
   "metadata": {},
   "outputs": [
    {
     "name": "stdout",
     "output_type": "stream",
     "text": [
      "Pour 6 runs:\n",
      "Accuracy: 0.964 ± 0.017\n",
      "Balanced Accuracy: 0.946 ± 0.037\n",
      "Recall: 0.925 ± 0.063\n",
      "Specificity: 0.968 ± 0.012\n",
      "Precision: 0.760 ± 0.081\n",
      "NPV: 0.991 ± 0.007\n",
      "G-Mean: 0.946 ± 0.038\n",
      "Informedness: 0.893 ± 0.074\n",
      "Training Duration: 0.001 ± 0.000\n",
      "Testing Duration: 0.000 ± 0.000\n"
     ]
    }
   ],
   "source": [
    "\n",
    "metrics = Metrics()\n",
    "model_parameters = ModelParameters()\n",
    "x_train, x_test, y_train, y_test = model_parameters.get_htru_2()\n",
    "\n",
    "model = SVC(kernel='linear', C=1.0) \n",
    "\n",
    "run_svm_sequence(model_parameters, model, x_train, y_train, x_test, y_test, metrics)\n",
    "\n",
    "metrics.display()"
   ]
  }
 ],
 "metadata": {
  "kernelspec": {
   "display_name": "quantum",
   "language": "python",
   "name": "python3"
  },
  "language_info": {
   "codemirror_mode": {
    "name": "ipython",
    "version": 3
   },
   "file_extension": ".py",
   "mimetype": "text/x-python",
   "name": "python",
   "nbconvert_exporter": "python",
   "pygments_lexer": "ipython3",
   "version": "3.11.5"
  }
 },
 "nbformat": 4,
 "nbformat_minor": 2
}
