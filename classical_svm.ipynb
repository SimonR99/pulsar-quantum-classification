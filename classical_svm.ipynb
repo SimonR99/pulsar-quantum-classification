{
 "cells": [
  {
   "cell_type": "code",
   "execution_count": 5,
   "metadata": {},
   "outputs": [],
   "source": [
    "from sklearn.model_selection import cross_val_score, cross_validate, StratifiedKFold\n",
    "from sklearn.metrics import accuracy_score, balanced_accuracy_score, recall_score, precision_score, confusion_matrix, make_scorer\n",
    "from sklearn import svm\n",
    "import numpy as np\n",
    "import pandas as pd\n",
    "from utils import specificity_score, negative_prediction_value_score, gmean_score, informedness_score\n",
    "from sklearn.model_selection import ShuffleSplit"
   ]
  },
  {
   "cell_type": "markdown",
   "metadata": {},
   "source": [
    "# Data Loading"
   ]
  },
  {
   "cell_type": "code",
   "execution_count": 6,
   "metadata": {},
   "outputs": [],
   "source": [
    "# Load the data\n",
    "df = pd.read_csv('./data/HTRU_2.csv', header=None)\n",
    "df.columns = ['IpMean', 'IpDev', 'IpKurt','IpSkew', 'DMMean', 'DMDev', 'DMKurt', 'DMSkew', 'Class']\n",
    "\n",
    "# Split the data into features and target\n",
    "X = df.iloc[:, :-1]\n",
    "y = df.iloc[:, -1]\n",
    "\n",
    "# Define the number of experiments\n",
    "n_runs = 100\n",
    "\n",
    "# Initialize lists to store the scores\n",
    "scores = {\n",
    "    'accuracy': [],\n",
    "    'balanced_accuracy': [],\n",
    "    'recall': [],\n",
    "    'specificity': [],\n",
    "    'precision': [],\n",
    "    'npv': [],\n",
    "    'gmean': [],\n",
    "    'informedness': []\n",
    "}\n",
    "\n",
    "\n",
    "# Create a ShuffleSplit instance\n",
    "ss = ShuffleSplit(n_splits=n_runs, train_size=200, test_size=400)"
   ]
  },
  {
   "cell_type": "markdown",
   "metadata": {},
   "source": [
    "# Training SVM"
   ]
  },
  {
   "cell_type": "code",
   "execution_count": 7,
   "metadata": {},
   "outputs": [],
   "source": [
    "# Initialize the model\n",
    "model = svm.SVC(kernel='linear', C=1.0) \n",
    "\n",
    "for train_index, test_index in ss.split(X):\n",
    "    # Split the data into training and testing sets\n",
    "    x_train, x_test = X.iloc[train_index], X.iloc[test_index]\n",
    "    y_train, y_test = y.iloc[train_index], y.iloc[test_index]\n",
    "\n",
    "    # Train the model and make predictions\n",
    "    model.fit(x_train, y_train)\n",
    "    y_pred = model.predict(x_test)\n",
    "\n",
    "    # Store the scores\n",
    "    scores['accuracy'].append(accuracy_score(y_test, y_pred))\n",
    "    scores['balanced_accuracy'].append(balanced_accuracy_score(y_test, y_pred))\n",
    "    scores['recall'].append(recall_score(y_test, y_pred))\n",
    "    scores['specificity'].append(specificity_score(y_test, y_pred))\n",
    "    scores['precision'].append(precision_score(y_test, y_pred))\n",
    "    scores['npv'].append(negative_prediction_value_score(y_test, y_pred))\n",
    "    scores['gmean'].append(gmean_score(y_test, y_pred))\n",
    "    scores['informedness'].append(informedness_score(y_test, y_pred))"
   ]
  },
  {
   "cell_type": "markdown",
   "metadata": {},
   "source": [
    "# Prediction"
   ]
  },
  {
   "cell_type": "code",
   "execution_count": 8,
   "metadata": {},
   "outputs": [
    {
     "name": "stdout",
     "output_type": "stream",
     "text": [
      "Accuracy: 0.972 ± 0.010\n",
      "Balanced_accuracy: 0.889 ± 0.047\n",
      "Recall: 0.787 ± 0.095\n",
      "Specificity: 0.991 ± 0.009\n",
      "Precision: 0.907 ± 0.078\n",
      "Npv: 0.978 ± 0.009\n",
      "Gmean: 0.881 ± 0.055\n",
      "Informedness: 0.778 ± 0.094\n"
     ]
    }
   ],
   "source": [
    "# Calculate mean and standard deviation for each metric and print the results\n",
    "for metric, values in scores.items():\n",
    "    mean_value = np.mean(values)\n",
    "    std_value = np.std(values)\n",
    "    print(f\"{metric.capitalize()}: {mean_value:.3f} ± {std_value:.3f}\")"
   ]
  }
 ],
 "metadata": {
  "kernelspec": {
   "display_name": "quantum",
   "language": "python",
   "name": "python3"
  },
  "language_info": {
   "codemirror_mode": {
    "name": "ipython",
    "version": 3
   },
   "file_extension": ".py",
   "mimetype": "text/x-python",
   "name": "python",
   "nbconvert_exporter": "python",
   "pygments_lexer": "ipython3",
   "version": "3.9.12"
  }
 },
 "nbformat": 4,
 "nbformat_minor": 2
}
