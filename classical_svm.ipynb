{
 "cells": [
  {
   "cell_type": "code",
   "execution_count": 76,
   "metadata": {},
   "outputs": [],
   "source": [
    "from sklearn.model_selection import cross_val_score, cross_validate, StratifiedKFold, ShuffleSplit\n",
    "from sklearn.metrics import accuracy_score, balanced_accuracy_score, recall_score, precision_score, confusion_matrix, make_scorer\n",
    "from sklearn.svm import SVC\n",
    "import pennylane.numpy as np\n",
    "import pandas as pd\n",
    "from utils import specificity_score, negative_prediction_value_score, gmean_score, informedness_score\n",
    "from model_parameters import ModelParameters"
   ]
  },
  {
   "cell_type": "markdown",
   "metadata": {},
   "source": [
    "# Training SVM"
   ]
  },
  {
   "cell_type": "code",
   "execution_count": 77,
   "metadata": {},
   "outputs": [],
   "source": [
    "model_parameters = ModelParameters()\n",
    "\n",
    "# Initialize the model\n",
    "model = SVC(kernel='linear', C=1.0) \n",
    "\n",
    "x_train, x_test, y_train, y_test = model_parameters.get_htru_2()\n",
    "\n",
    "for i in range(model_parameters.num_runs):\n",
    "    balanced_x_train, balance_y_train = model_parameters.sub_select_dataset(x_train, y_train, model_parameters.training_samples, balanced=True)\n",
    "    balanced_x_test, balance_y_test = model_parameters.sub_select_dataset(x_test, y_test, model_parameters.testing_samples)\n",
    "\n",
    "    # Train the model and make predictions\n",
    "    model.fit(balanced_x_train, balance_y_train)\n",
    "    y_pred = model.predict(balanced_x_test)\n",
    "\n",
    "    # Store the scores\n",
    "    model_parameters.append_score(balance_y_test, y_pred)"
   ]
  },
  {
   "cell_type": "markdown",
   "metadata": {},
   "source": [
    "# Prediction"
   ]
  },
  {
   "cell_type": "code",
   "execution_count": 78,
   "metadata": {},
   "outputs": [
    {
     "name": "stdout",
     "output_type": "stream",
     "text": [
      "Accuracy: 0.922 ± 0.087\n",
      "Balanced_accuracy: 0.927 ± 0.090\n",
      "Recall: 0.933 ± 0.094\n",
      "Specificity: 0.920 ± 0.086\n",
      "Precision: 0.759 ± 0.233\n",
      "Npv: 0.984 ± 0.022\n",
      "Gmean: 0.927 ± 0.090\n",
      "Informedness: 0.853 ± 0.180\n"
     ]
    }
   ],
   "source": [
    "# Calculate mean and standard deviation for each metric and print the results\n",
    "for metric, values in model_parameters.scores.items():\n",
    "    mean_value = np.mean(values)\n",
    "    std_value = np.std(values)\n",
    "    print(f\"{metric.capitalize()}: {mean_value:.3f} ± {std_value:.3f}\")"
   ]
  }
 ],
 "metadata": {
  "kernelspec": {
   "display_name": "quantum",
   "language": "python",
   "name": "python3"
  },
  "language_info": {
   "codemirror_mode": {
    "name": "ipython",
    "version": 3
   },
   "file_extension": ".py",
   "mimetype": "text/x-python",
   "name": "python",
   "nbconvert_exporter": "python",
   "pygments_lexer": "ipython3",
   "version": "3.11.5"
  }
 },
 "nbformat": 4,
 "nbformat_minor": 2
}
