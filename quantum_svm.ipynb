{
 "cells": [
  {
   "cell_type": "code",
   "execution_count": 15,
   "metadata": {},
   "outputs": [],
   "source": [
    "from sklearn.model_selection import cross_val_score, cross_validate, StratifiedKFold, ShuffleSplit\n",
    "from sklearn.metrics import accuracy_score, balanced_accuracy_score, recall_score, precision_score, confusion_matrix, make_scorer\n",
    "from sklearn.svm import SVC\n",
    "from pennylane import numpy as np\n",
    "import pennylane as qml\n",
    "import pandas as pd\n",
    "from utils import specificity_score, negative_prediction_value_score, gmean_score, informedness_score"
   ]
  },
  {
   "cell_type": "markdown",
   "metadata": {},
   "source": [
    "# Data loading"
   ]
  },
  {
   "cell_type": "code",
   "execution_count": 16,
   "metadata": {},
   "outputs": [],
   "source": [
    "# Load the data\n",
    "df = pd.read_csv('./data/HTRU_2.csv', header=None)\n",
    "df.columns = ['IpMean', 'IpDev', 'IpKurt','IpSkew', 'DMMean', 'DMDev', 'DMKurt', 'DMSkew', 'Class']\n",
    "\n",
    "# Split the data into features and target\n",
    "X = df.iloc[:, :-1]\n",
    "y = df.iloc[:, -1]\n",
    "\n",
    "# Define the number of experiments\n",
    "n_runs = 5\n",
    "\n",
    "# Initialize lists to store the scores\n",
    "scores = {\n",
    "    'accuracy': [],\n",
    "    'balanced_accuracy': [],\n",
    "    'recall': [],\n",
    "    'specificity': [],\n",
    "    'precision': [],\n",
    "    'npv': [],\n",
    "    'gmean': [],\n",
    "    'informedness': []\n",
    "}\n",
    "\n",
    "\n",
    "# Create a ShuffleSplit instance\n",
    "ss = ShuffleSplit(n_splits=n_runs, train_size=200, test_size=400)"
   ]
  },
  {
   "cell_type": "markdown",
   "metadata": {},
   "source": [
    "# Kernel definition"
   ]
  },
  {
   "cell_type": "code",
   "execution_count": 17,
   "metadata": {},
   "outputs": [],
   "source": [
    "n_qubits = 8\n",
    "\n",
    "dev = qml.device(\"lightning.qubit\", wires=n_qubits) \n",
    "\n",
    "\n",
    "# kernel les angles\n",
    "@qml.qnode(dev)\n",
    "def kernel_angle_embedding(a,b):\n",
    "    # phi a\n",
    "    qml.AngleEmbedding(\n",
    "        a, wires=range(n_qubits)\n",
    "    )\n",
    "    # phi b\n",
    "    qml.AngleEmbedding(\n",
    "        b, wires=range(n_qubits)\n",
    "    )\n",
    "\n",
    "    return qml.probs(wires=range(n_qubits))\n",
    "\n",
    "\n",
    "def qkernel(A, B):\n",
    "    # Ensure that A and B are NumPy arrays for compatibility with the quantum kernel\n",
    "    A = np.array(A)\n",
    "    B = np.array(B)\n",
    "    \n",
    "    # Compute the pairwise kernel values\n",
    "    kernel_matrix = np.zeros((A.shape[0], B.shape[0]))\n",
    "    for i, a in enumerate(A):\n",
    "        for j, b in enumerate(B):\n",
    "            kernel_matrix[i, j] = kernel_angle_embedding(a, b)[0]\n",
    "    return kernel_matrix"
   ]
  },
  {
   "cell_type": "markdown",
   "metadata": {},
   "source": [
    "# Training QSVM"
   ]
  },
  {
   "cell_type": "code",
   "execution_count": 18,
   "metadata": {},
   "outputs": [],
   "source": [
    "\n",
    "# Initialize the model\n",
    "model = SVC(kernel=qkernel, C=1.0) \n",
    "\n",
    "for train_index, test_index in ss.split(X):\n",
    "    # Split the data into training and testing sets\n",
    "    x_train, x_test = X.iloc[train_index], X.iloc[test_index]\n",
    "    y_train, y_test = y.iloc[train_index], y.iloc[test_index]\n",
    "\n",
    "    # Train the model and make predictions\n",
    "    model.fit(x_train, y_train)\n",
    "    y_pred = model.predict(x_test)\n",
    "\n",
    "    # Store the scores\n",
    "    scores['accuracy'].append(accuracy_score(y_test, y_pred))\n",
    "    scores['balanced_accuracy'].append(balanced_accuracy_score(y_test, y_pred))\n",
    "    scores['recall'].append(recall_score(y_test, y_pred))\n",
    "    scores['specificity'].append(specificity_score(y_test, y_pred))\n",
    "    scores['precision'].append(precision_score(y_test, y_pred))\n",
    "    scores['npv'].append(negative_prediction_value_score(y_test, y_pred))\n",
    "    scores['gmean'].append(gmean_score(y_test, y_pred))\n",
    "    scores['informedness'].append(informedness_score(y_test, y_pred))"
   ]
  },
  {
   "cell_type": "markdown",
   "metadata": {},
   "source": [
    "# Prediction"
   ]
  },
  {
   "cell_type": "code",
   "execution_count": null,
   "metadata": {},
   "outputs": [
    {
     "name": "stdout",
     "output_type": "stream",
     "text": [
      "Accuracy: 0.925 ± 0.000\n",
      "Balanced_accuracy: 0.500 ± 0.000\n",
      "Recall: 0.000 ± 0.000\n",
      "Specificity: 1.000 ± 0.000\n",
      "Precision: 0.000 ± 0.000\n",
      "Npv: 0.925 ± 0.000\n",
      "Gmean: 0.000 ± 0.000\n",
      "Informedness: 0.000 ± 0.000\n"
     ]
    }
   ],
   "source": [
    "# Calculate mean and standard deviation for each metric and print the results\n",
    "for metric, values in scores.items():\n",
    "    mean_value = np.mean(values)\n",
    "    std_value = np.std(values)\n",
    "    print(f\"{metric.capitalize()}: {mean_value:.3f} ± {std_value:.3f}\")"
   ]
  },
  {
   "cell_type": "markdown",
   "metadata": {},
   "source": [
    "# Prediction"
   ]
  },
  {
   "cell_type": "code",
   "execution_count": null,
   "metadata": {},
   "outputs": [],
   "source": [
    "# Calculate mean and standard deviation for each metric and print the results\n",
    "for metric, values in scores.items():\n",
    "    mean_value = np.mean(values)\n",
    "    std_value = np.std(values)\n",
    "    print(f\"{metric.capitalize()}: {mean_value:.3f} ± {std_value:.3f}\")"
   ]
  }
 ],
 "metadata": {
  "kernelspec": {
   "display_name": "quantum",
   "language": "python",
   "name": "python3"
  },
  "language_info": {
   "codemirror_mode": {
    "name": "ipython",
    "version": 3
   },
   "file_extension": ".py",
   "mimetype": "text/x-python",
   "name": "python",
   "nbconvert_exporter": "python",
   "pygments_lexer": "ipython3",
   "version": "3.9.12"
  }
 },
 "nbformat": 4,
 "nbformat_minor": 2
}
