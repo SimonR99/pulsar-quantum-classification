{
 "cells": [
  {
   "cell_type": "code",
   "execution_count": 14,
   "metadata": {},
   "outputs": [],
   "source": [
    "from sklearn.svm import SVC\n",
    "from pennylane import numpy as np\n",
    "import pennylane as qml\n",
    "from model_parameters import ModelParameters\n",
    "from tqdm.notebook import tqdm\n",
    "import time"
   ]
  },
  {
   "cell_type": "markdown",
   "metadata": {},
   "source": [
    "# Kernel definition"
   ]
  },
  {
   "cell_type": "code",
   "execution_count": 15,
   "metadata": {},
   "outputs": [],
   "source": [
    "n_qubits = 8\n",
    "\n",
    "dev_kernel = qml.device(\"lightning.qubit\", wires=n_qubits)\n",
    "\n",
    "projector = np.zeros((2**n_qubits, 2**n_qubits))\n",
    "projector[0, 0] = 1\n",
    "\n",
    "@qml.qnode(dev_kernel)\n",
    "def kernel(x1, x2):\n",
    "    \"\"\"The quantum kernel.\"\"\"\n",
    "    qml.AngleEmbedding(x1, wires=range(n_qubits))\n",
    "    qml.adjoint(qml.AngleEmbedding)(x2, wires=range(n_qubits))\n",
    "    return qml.expval(qml.Hermitian(projector, wires=range(n_qubits)))\n",
    "\n",
    "def kernel_matrix(A, B):\n",
    "    \"\"\"Compute the matrix whose entries are the kernel\n",
    "       evaluated on pairwise data from sets A and B.\"\"\"\n",
    "    return np.array([[kernel(a, b) for b in B] for a in A])"
   ]
  },
  {
   "cell_type": "markdown",
   "metadata": {},
   "source": [
    "# Training QSVM"
   ]
  },
  {
   "cell_type": "code",
   "execution_count": 16,
   "metadata": {},
   "outputs": [
    {
     "data": {
      "application/vnd.jupyter.widget-view+json": {
       "model_id": "3a4c5b6310fa4915a50ad66cd74c6b40",
       "version_major": 2,
       "version_minor": 0
      },
      "text/plain": [
       "  0%|          | 0/1 [00:00<?, ?it/s]"
      ]
     },
     "metadata": {},
     "output_type": "display_data"
    }
   ],
   "source": [
    "model_parameters = ModelParameters()\n",
    "\n",
    "# Initialize the model\n",
    "model = SVC(kernel=kernel_matrix, C=1.0) \n",
    "\n",
    "x_train, x_test, y_train, y_test = model_parameters.get_htru_2()\n",
    "\n",
    "for i in tqdm(range(model_parameters.num_runs)):\n",
    "    balanced_x_train, balance_y_train = model_parameters.sub_select_dataset(x_train, y_train, model_parameters.training_samples, balanced=True)\n",
    "    balanced_x_test, balance_y_test = model_parameters.sub_select_dataset(x_test, y_test, model_parameters.testing_samples)\n",
    "\n",
    "    # Train the model and make predictions\n",
    "    start_training_time = time.time()\n",
    "    model.fit(balanced_x_train, balance_y_train)\n",
    "    end_training_time = time.time()\n",
    "\n",
    "    training_duration = end_training_time - start_training_time\n",
    "\n",
    "    start_testing_time = time.time()\n",
    "    y_pred = model.predict(balanced_x_test)\n",
    "    end_testing_time = time.time()\n",
    "\n",
    "    test_duration = end_testing_time - start_testing_time\n",
    "\n",
    "    # Store the scores\n",
    "    model_parameters.append_score(balance_y_test, y_pred, training_duration, test_duration)\n"
   ]
  },
  {
   "cell_type": "markdown",
   "metadata": {},
   "source": [
    "# Prediction"
   ]
  },
  {
   "cell_type": "code",
   "execution_count": 17,
   "metadata": {},
   "outputs": [
    {
     "name": "stdout",
     "output_type": "stream",
     "text": [
      "Accuracy: 0.983 ± 0.000\n",
      "Balanced_accuracy: 0.966 ± 0.000\n",
      "Recall: 0.946 ± 0.000\n",
      "Specificity: 0.986 ± 0.000\n",
      "Precision: 0.875 ± 0.000\n",
      "Npv: 0.994 ± 0.000\n",
      "Gmean: 0.966 ± 0.000\n",
      "Informedness: 0.932 ± 0.000\n"
     ]
    }
   ],
   "source": [
    "# Calculate mean and standard deviation for each metric and print the results\n",
    "for metric, values in model_parameters.scores.items():\n",
    "    mean_value = np.mean(values)\n",
    "    std_value = np.std(values)\n",
    "    print(f\"{metric.capitalize()}: {mean_value:.3f} ± {std_value:.3f}\")"
   ]
  },
  {
   "cell_type": "code",
   "execution_count": 18,
   "metadata": {},
   "outputs": [
    {
     "name": "stdout",
     "output_type": "stream",
     "text": [
      "{'accuracy': [0.9825], 'balanced_accuracy': [0.9660859206313752], 'recall': [0.9459459459459459], 'specificity': [0.9862258953168044], 'precision': [0.875], 'npv': [0.9944444444444445], 'gmean': [0.9658759689845493], 'informedness': [0.9321718412627504]}\n"
     ]
    }
   ],
   "source": [
    "print(model_parameters.scores)"
   ]
  }
 ],
 "metadata": {
  "kernelspec": {
   "display_name": "quantum",
   "language": "python",
   "name": "python3"
  },
  "language_info": {
   "codemirror_mode": {
    "name": "ipython",
    "version": 3
   },
   "file_extension": ".py",
   "mimetype": "text/x-python",
   "name": "python",
   "nbconvert_exporter": "python",
   "pygments_lexer": "ipython3",
   "version": "3.9.12"
  }
 },
 "nbformat": 4,
 "nbformat_minor": 2
}
