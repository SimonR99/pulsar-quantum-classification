{
 "cells": [
  {
   "cell_type": "code",
   "execution_count": 1,
   "metadata": {},
   "outputs": [],
   "source": [
    "from sklearn.svm import SVC\n",
    "from pennylane import numpy as np\n",
    "import pennylane as qml\n",
    "from model_parameters import ModelParameters\n",
    "from helper.scores import Metrics\n",
    "from helper.svm import run_svm_sequence"
   ]
  },
  {
   "cell_type": "markdown",
   "metadata": {},
   "source": [
    "# Kernel definition"
   ]
  },
  {
   "cell_type": "code",
   "execution_count": null,
   "metadata": {},
   "outputs": [],
   "source": [
    "n_qubits = 8\n",
    "\n",
    "dev_kernel = qml.device(\"default.qubit\", wires=n_qubits)\n",
    "\n",
    "projector = np.zeros((2**n_qubits, 2**n_qubits))\n",
    "projector[0, 0] = 1\n",
    "\n",
    "@qml.qnode(dev_kernel)\n",
    "def kernel(x1, x2):\n",
    "    \"\"\"The quantum kernel.\"\"\"\n",
    "    qml.AngleEmbedding(x1, wires=range(n_qubits))\n",
    "    qml.adjoint(qml.AngleEmbedding)(x2, wires=range(n_qubits))\n",
    "    return qml.expval(qml.Hermitian(projector, wires=range(n_qubits)))\n",
    "\n",
    "def kernel_matrix(A, B):\n",
    "    \"\"\"Compute the matrix whose entries are the kernel\n",
    "       evaluated on pairwise data from sets A and B.\"\"\"\n",
    "    return np.array([[kernel(a, b) for b in B] for a in A])\n"
   ]
  },
  {
   "cell_type": "markdown",
   "metadata": {},
   "source": [
    "# Training QSVM"
   ]
  },
  {
   "cell_type": "code",
   "execution_count": 2,
   "metadata": {},
   "outputs": [
    {
     "name": "stderr",
     "output_type": "stream",
     "text": [
      "  0%|          | 0/6 [00:00<?, ?it/s]"
     ]
    },
    {
     "name": "stderr",
     "output_type": "stream",
     "text": [
      "100%|██████████| 6/6 [58:43<00:00, 587.27s/it]"
     ]
    },
    {
     "name": "stdout",
     "output_type": "stream",
     "text": [
      "Pour 6 runs:\n",
      "Accuracy: 0.965 ± 0.017\n",
      "Balanced Accuracy: 0.970 ± 0.011\n",
      "Recall: 0.977 ± 0.017\n",
      "Specificity: 0.963 ± 0.019\n",
      "Precision: 0.743 ± 0.105\n",
      "NPV: 0.998 ± 0.002\n",
      "G-Mean: 0.970 ± 0.011\n",
      "Informedness: 0.940 ± 0.022\n",
      "Training Duration: 215.773 ± 3.487\n",
      "Testing Duration: 371.481 ± 5.779\n"
     ]
    },
    {
     "name": "stderr",
     "output_type": "stream",
     "text": [
      "\n"
     ]
    }
   ],
   "source": [
    "metrics = Metrics()\n",
    "\n",
    "model_parameters = ModelParameters()\n",
    "\n",
    "# Initialize the model\n",
    "model = SVC(kernel=kernel_matrix, C=1.0) \n",
    "\n",
    "x_train, x_test, y_train, y_test = model_parameters.get_htru_2()\n",
    "\n",
    "run_svm_sequence(model_parameters, model, x_train, y_train, x_test, y_test, metrics)\n",
    "\n",
    "metrics.display()"
   ]
  }
 ],
 "metadata": {
  "kernelspec": {
   "display_name": "quantum",
   "language": "python",
   "name": "python3"
  },
  "language_info": {
   "codemirror_mode": {
    "name": "ipython",
    "version": 3
   },
   "file_extension": ".py",
   "mimetype": "text/x-python",
   "name": "python",
   "nbconvert_exporter": "python",
   "pygments_lexer": "ipython3",
   "version": "3.11.5"
  }
 },
 "nbformat": 4,
 "nbformat_minor": 2
}
