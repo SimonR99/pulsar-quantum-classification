{
 "cells": [
  {
   "cell_type": "code",
   "execution_count": 1,
   "metadata": {},
   "outputs": [],
   "source": [
    "from sklearn.svm import SVC\n",
    "from pennylane import numpy as np\n",
    "import pennylane as qml\n",
    "from model_parameters import ModelParameters\n",
    "from tqdm.notebook import tqdm\n",
    "import time\n",
    "from helper.scores import Metrics\n",
    "from helper.dataset import sub_select_dataset\n",
    "from helper.svm import run_svm_sequence"
   ]
  },
  {
   "cell_type": "markdown",
   "metadata": {},
   "source": [
    "# Kernel definition"
   ]
  },
  {
   "cell_type": "code",
   "execution_count": 2,
   "metadata": {},
   "outputs": [],
   "source": [
    "n_qubits = 8\n",
    "\n",
    "dev_kernel = qml.device(\"lightning.qubit\", wires=n_qubits)\n",
    "\n",
    "projector = np.zeros((2**n_qubits, 2**n_qubits))\n",
    "projector[0, 0] = 1\n",
    "\n",
    "@qml.qnode(dev_kernel)\n",
    "def kernel(x1, x2):\n",
    "    \"\"\"The quantum kernel.\"\"\"\n",
    "    qml.AngleEmbedding(x1, wires=range(n_qubits))\n",
    "    qml.adjoint(qml.AngleEmbedding)(x2, wires=range(n_qubits))\n",
    "    return qml.expval(qml.Hermitian(projector, wires=range(n_qubits)))\n",
    "\n",
    "def kernel_matrix(A, B):\n",
    "    \"\"\"Compute the matrix whose entries are the kernel\n",
    "       evaluated on pairwise data from sets A and B.\"\"\"\n",
    "    return np.array([[kernel(a, b) for b in B] for a in A])"
   ]
  },
  {
   "cell_type": "markdown",
   "metadata": {},
   "source": [
    "# Training QSVM"
   ]
  },
  {
   "cell_type": "code",
   "execution_count": 3,
   "metadata": {},
   "outputs": [],
   "source": [
    "metrics = Metrics()\n",
    "\n",
    "model_parameters = ModelParameters()\n",
    "\n",
    "# Initialize the model\n",
    "model = SVC(kernel=kernel_matrix, C=1.0) \n",
    "\n",
    "x_train, x_test, y_train, y_test = model_parameters.get_htru_2()\n",
    "\n",
    "run_svm_sequence(model_parameters, model, x_train, y_train, x_test, y_test, metrics)\n",
    "\n",
    "metrics.display()"
   ]
  }
 ],
 "metadata": {
  "kernelspec": {
   "display_name": "quantum",
   "language": "python",
   "name": "python3"
  },
  "language_info": {
   "codemirror_mode": {
    "name": "ipython",
    "version": 3
   },
   "file_extension": ".py",
   "mimetype": "text/x-python",
   "name": "python",
   "nbconvert_exporter": "python",
   "pygments_lexer": "ipython3",
   "version": "3.11.5"
  }
 },
 "nbformat": 4,
 "nbformat_minor": 2
}
